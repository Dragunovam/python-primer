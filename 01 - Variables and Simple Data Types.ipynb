{
 "cells": [
  {
   "cell_type": "markdown",
   "metadata": {},
   "source": [
    "### Variables and Simple Data Types"
   ]
  },
  {
   "cell_type": "markdown",
   "metadata": {},
   "source": [
    "In Python variable names are just **symbols** that point to some object (everything is an object) in memory. The variable name (or symbol) has no special meaning other than a way for us programmers to easily deal with objects by using a symbolic name.\n",
    "\n",
    "Unlike languages like Java or C, Python variables (symbols) are not **declared** with some **static type**. A symbol can can change what object it points to at any time, and since the type is associated with the object, not the symbol, the type of the variable is essentially **dynamic**. This is called **dynamic** typing.\n",
    "\n",
    "So symbols (or variables) are simply names for objects in memory. Any object has a **memory address** (representing the starting memory address), which can easily be recovered in Python, although there is rarely any need to use memory addresses. We will use it here because it helps understand how Python deals wioth variables and objects in many situations. So useful as a learning and debugging tool."
   ]
  },
  {
   "cell_type": "markdown",
   "metadata": {},
   "source": [
    "To \"create\" a variable we have to first create an object, and then assign that object to a symbol.\n",
    "\n",
    "For example:"
   ]
  },
  {
   "cell_type": "code",
   "execution_count": 1,
   "metadata": {},
   "outputs": [],
   "source": [
    "a = \"hello\""
   ]
  },
  {
   "cell_type": "markdown",
   "metadata": {},
   "source": [
    "Here we actually created an object, the string `hello` in memory, and assigned that symbol a name `a`."
   ]
  },
  {
   "cell_type": "markdown",
   "metadata": {},
   "source": [
    "We can get the memory address of this object by using the `id()` function:"
   ]
  },
  {
   "cell_type": "code",
   "execution_count": 2,
   "metadata": {},
   "outputs": [
    {
     "data": {
      "text/plain": [
       "4479766968"
      ]
     },
     "execution_count": 2,
     "metadata": {},
     "output_type": "execute_result"
    }
   ],
   "source": [
    "id(a)"
   ]
  },
  {
   "cell_type": "markdown",
   "metadata": {},
   "source": [
    "And we can get the hexadecimal equivalent of this decimal number by using the `hex()` function:"
   ]
  },
  {
   "cell_type": "code",
   "execution_count": 3,
   "metadata": {},
   "outputs": [
    {
     "data": {
      "text/plain": [
       "'0x10b03d1b8'"
      ]
     },
     "execution_count": 3,
     "metadata": {},
     "output_type": "execute_result"
    }
   ],
   "source": [
    "hex(id(a))"
   ]
  },
  {
   "cell_type": "markdown",
   "metadata": {},
   "source": [
    "### Data Types"
   ]
  },
  {
   "cell_type": "markdown",
   "metadata": {},
   "source": [
    "Many of the basic data types in Python, such as integers, floats, strings, lists, dictionaries and more have corresponding **literals**. A literal is simply a hardcoded value, such as an actual number, or an actual string."
   ]
  },
  {
   "cell_type": "markdown",
   "metadata": {},
   "source": [
    "We can use the `type()` function to determine the type of an object:"
   ]
  },
  {
   "cell_type": "code",
   "execution_count": 4,
   "metadata": {},
   "outputs": [],
   "source": [
    "a = 'hello'"
   ]
  },
  {
   "cell_type": "code",
   "execution_count": 5,
   "metadata": {},
   "outputs": [
    {
     "data": {
      "text/plain": [
       "str"
      ]
     },
     "execution_count": 5,
     "metadata": {},
     "output_type": "execute_result"
    }
   ],
   "source": [
    "type(a)"
   ]
  },
  {
   "cell_type": "code",
   "execution_count": 6,
   "metadata": {},
   "outputs": [],
   "source": [
    "a = 10"
   ]
  },
  {
   "cell_type": "code",
   "execution_count": 7,
   "metadata": {},
   "outputs": [
    {
     "data": {
      "text/plain": [
       "int"
      ]
     },
     "execution_count": 7,
     "metadata": {},
     "output_type": "execute_result"
    }
   ],
   "source": [
    "type(a)"
   ]
  },
  {
   "cell_type": "markdown",
   "metadata": {},
   "source": [
    "Notice how the type of `a` changed - that's because the object `a` was pointing to changed from a string to an integer."
   ]
  },
  {
   "cell_type": "markdown",
   "metadata": {},
   "source": [
    "The most important data types in Python, and their corresponding data types are:"
   ]
  },
  {
   "cell_type": "markdown",
   "metadata": {},
   "source": [
    "##### Integers"
   ]
  },
  {
   "cell_type": "code",
   "execution_count": 8,
   "metadata": {},
   "outputs": [
    {
     "name": "stdout",
     "output_type": "stream",
     "text": [
      "4440180336 <class 'int'> 10\n"
     ]
    }
   ],
   "source": [
    "a = 10\n",
    "print(id(a), type(a), a)"
   ]
  },
  {
   "cell_type": "code",
   "execution_count": 9,
   "metadata": {},
   "outputs": [
    {
     "name": "stdout",
     "output_type": "stream",
     "text": [
      "4480037328 <class 'int'> -10\n"
     ]
    }
   ],
   "source": [
    "a = -10\n",
    "print(id(a), type(a), a)"
   ]
  },
  {
   "cell_type": "markdown",
   "metadata": {},
   "source": [
    "Integers in Python can be of any size (as long as they will fit in memory). There is no concept of short integers, long integers, etc as there is in languages such as C or Java. Python integers will just grow as large as needed. Computations will get slower, but you don't need to do anything special to handle them."
   ]
  },
  {
   "cell_type": "markdown",
   "metadata": {},
   "source": [
    "##### Floats"
   ]
  },
  {
   "cell_type": "code",
   "execution_count": 10,
   "metadata": {},
   "outputs": [
    {
     "name": "stdout",
     "output_type": "stream",
     "text": [
      "4479517272 <class 'float'> 10.5\n"
     ]
    }
   ],
   "source": [
    "a = 10.5\n",
    "print(id(a), type(a), a)"
   ]
  },
  {
   "cell_type": "code",
   "execution_count": 11,
   "metadata": {},
   "outputs": [
    {
     "name": "stdout",
     "output_type": "stream",
     "text": [
      "4479517128 <class 'float'> -3.14\n"
     ]
    }
   ],
   "source": [
    "a = -3.14\n",
    "print(id(a), type(a), a)"
   ]
  },
  {
   "cell_type": "markdown",
   "metadata": {},
   "source": [
    "Floats are stored in Python (and in most other programming languages) using a binary representation.\n",
    "\n",
    "Just as a decimal number such as:\n",
    "\n",
    "```0.0123``` is technically ```0/10 + 1/100 + 2/1000 + 3/10000```, which uses powers of `10`, a binary representation uses powers of `2` instead.\n",
    "\n",
    "For example:\n",
    "`0.125` is `0/2 + 0/4 + 1/8`"
   ]
  },
  {
   "cell_type": "markdown",
   "metadata": {},
   "source": [
    "Some numbers do not have an **exact** decimal representation. \n",
    "\n",
    "For example the number `1/3` would be `3/10 + 3/100 + 3/1000 + ...`"
   ]
  },
  {
   "cell_type": "markdown",
   "metadata": {},
   "source": [
    "Similarly, some numbers, even though they may have an exact **decimal** representation, do **not** have a binary representation. \n",
    "\n",
    "For example `0.1` has a binary representation of `0/2 + 0/4 + 0/8 + 1/16 + 1/32 + 0/64 + 0/128 + 1/256 + 1/512 + 0/1024 + 0/2048 + 1/4096 + ...`\n",
    "\n",
    "This is sometimes written as:\n",
    "`0.00011001100110011... (base 2)`"
   ]
  },
  {
   "cell_type": "markdown",
   "metadata": {},
   "source": [
    "We can look at an approximation:"
   ]
  },
  {
   "cell_type": "code",
   "execution_count": 12,
   "metadata": {},
   "outputs": [
    {
     "data": {
      "text/plain": [
       "0.099853515625"
      ]
     },
     "execution_count": 12,
     "metadata": {},
     "output_type": "execute_result"
    }
   ],
   "source": [
    "1/16 + +1/32 + 1/256 + 1/512 + 1/4096"
   ]
  },
  {
   "cell_type": "markdown",
   "metadata": {},
   "source": [
    "So this binary representation is **infinite** and **converges** to `0.1`.\n",
    "\n",
    "Since we cannot possibly store an infinite representation in a computer, there is a limit to how many binary digits are used to store such a number, which means that the decimal number `0.1` **does not have an exact representation** in our program!"
   ]
  },
  {
   "cell_type": "markdown",
   "metadata": {},
   "source": [
    "This will become important to understand when we try to compare two flkoats using **equality**."
   ]
  },
  {
   "cell_type": "code",
   "execution_count": 13,
   "metadata": {},
   "outputs": [],
   "source": [
    "a = 0.1"
   ]
  },
  {
   "cell_type": "code",
   "execution_count": 14,
   "metadata": {},
   "outputs": [
    {
     "name": "stdout",
     "output_type": "stream",
     "text": [
      "0.1\n"
     ]
    }
   ],
   "source": [
    "print(a)"
   ]
  },
  {
   "cell_type": "markdown",
   "metadata": {},
   "source": [
    "Ok, so why does it look like Python is holding an exact represenattion of `0.1`? Beware, this is simply Python rounding things for visual represenation purposes.\n",
    "\n",
    "Python supports formatting specifiers when printing things like numbers, where we can for example define how many digits after the decimal point we want to display:"
   ]
  },
  {
   "cell_type": "code",
   "execution_count": 15,
   "metadata": {},
   "outputs": [
    {
     "name": "stdout",
     "output_type": "stream",
     "text": [
      "0.1000000000\n"
     ]
    }
   ],
   "source": [
    "print(format(0.1, '.10f'))"
   ]
  },
  {
   "cell_type": "markdown",
   "metadata": {},
   "source": [
    "Still looks exact!"
   ]
  },
  {
   "cell_type": "code",
   "execution_count": 16,
   "metadata": {},
   "outputs": [
    {
     "name": "stdout",
     "output_type": "stream",
     "text": [
      "0.100000000000000005551115123126\n"
     ]
    }
   ],
   "source": [
    "print(format(0.1, '.30f'))"
   ]
  },
  {
   "cell_type": "markdown",
   "metadata": {},
   "source": [
    "##### Booleans"
   ]
  },
  {
   "cell_type": "markdown",
   "metadata": {},
   "source": [
    "In Python, **booleans** are actually just **integers**, where `0` is **false** and `1` is **true**.\n",
    "\n",
    "But we don't actually use these numbers, we use some special objects that have the symbols `True` and `False`."
   ]
  },
  {
   "cell_type": "code",
   "execution_count": 17,
   "metadata": {},
   "outputs": [
    {
     "name": "stdout",
     "output_type": "stream",
     "text": [
      "4439799728 <class 'bool'> True\n"
     ]
    }
   ],
   "source": [
    "a = True\n",
    "print(id(a), type(a), a)"
   ]
  },
  {
   "cell_type": "code",
   "execution_count": 18,
   "metadata": {},
   "outputs": [
    {
     "data": {
      "text/plain": [
       "True"
      ]
     },
     "execution_count": 18,
     "metadata": {},
     "output_type": "execute_result"
    }
   ],
   "source": [
    "True == 1"
   ]
  },
  {
   "cell_type": "markdown",
   "metadata": {},
   "source": [
    "#### Other Numeric Types"
   ]
  },
  {
   "cell_type": "markdown",
   "metadata": {},
   "source": [
    "Python has other numeric types as well, such as complex numbers, rational numbers (fractions), and something related to floats (but with more specifiable precision)m called decimals."
   ]
  },
  {
   "cell_type": "markdown",
   "metadata": {},
   "source": [
    "For example, to create a complex number, we can use literals:"
   ]
  },
  {
   "cell_type": "code",
   "execution_count": 19,
   "metadata": {},
   "outputs": [
    {
     "name": "stdout",
     "output_type": "stream",
     "text": [
      "<class 'complex'> (1+1j)\n"
     ]
    }
   ],
   "source": [
    "a = 1 + 1j\n",
    "print(type(a), a)"
   ]
  },
  {
   "cell_type": "code",
   "execution_count": 20,
   "metadata": {},
   "outputs": [],
   "source": [
    "b = 2 + 2j"
   ]
  },
  {
   "cell_type": "code",
   "execution_count": 21,
   "metadata": {},
   "outputs": [
    {
     "data": {
      "text/plain": [
       "(3+3j)"
      ]
     },
     "execution_count": 21,
     "metadata": {},
     "output_type": "execute_result"
    }
   ],
   "source": [
    "a + b"
   ]
  },
  {
   "cell_type": "code",
   "execution_count": 22,
   "metadata": {},
   "outputs": [
    {
     "data": {
      "text/plain": [
       "4j"
      ]
     },
     "execution_count": 22,
     "metadata": {},
     "output_type": "execute_result"
    }
   ],
   "source": [
    "a * b"
   ]
  },
  {
   "cell_type": "markdown",
   "metadata": {},
   "source": [
    "Fractions can also be created, but we won't cover this in this primer."
   ]
  },
  {
   "cell_type": "markdown",
   "metadata": {},
   "source": [
    "##### The None type"
   ]
  },
  {
   "cell_type": "markdown",
   "metadata": {},
   "source": [
    "There is a special object in Python, called `None` that is used to indicate **nothing**. Think of it like the empty set in mathematics.\n",
    "\n",
    "It is a regular object, and has a type of `NoneType`:"
   ]
  },
  {
   "cell_type": "code",
   "execution_count": 23,
   "metadata": {},
   "outputs": [
    {
     "name": "stdout",
     "output_type": "stream",
     "text": [
      "4439900024 <class 'NoneType'> None\n"
     ]
    }
   ],
   "source": [
    "a = None\n",
    "print(id(a), type(a), a)"
   ]
  },
  {
   "cell_type": "code",
   "execution_count": 24,
   "metadata": {},
   "outputs": [
    {
     "name": "stdout",
     "output_type": "stream",
     "text": [
      "None\n"
     ]
    }
   ],
   "source": [
    "print(a)"
   ]
  },
  {
   "cell_type": "markdown",
   "metadata": {},
   "source": [
    "Note that the display up there is just that - a display. In fact `None` is a special object, not just the string None."
   ]
  }
 ],
 "metadata": {
  "kernelspec": {
   "display_name": "Python 3 (ipykernel)",
   "language": "python",
   "name": "python3"
  },
  "language_info": {
   "codemirror_mode": {
    "name": "ipython",
    "version": 3
   },
   "file_extension": ".py",
   "mimetype": "text/x-python",
   "name": "python",
   "nbconvert_exporter": "python",
   "pygments_lexer": "ipython3",
   "version": "3.9.1"
  }
 },
 "nbformat": 4,
 "nbformat_minor": 2
}
